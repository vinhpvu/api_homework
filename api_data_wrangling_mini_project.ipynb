{
 "cells": [
  {
   "cell_type": "markdown",
   "metadata": {},
   "source": [
    "This exercise will require you to pull some data from the Qunadl API. Qaundl is currently the most widely used aggregator of financial market data."
   ]
  },
  {
   "cell_type": "markdown",
   "metadata": {},
   "source": [
    "As a first step, you will need to register a free account on the http://www.quandl.com website."
   ]
  },
  {
   "cell_type": "markdown",
   "metadata": {},
   "source": [
    "After you register, you will be provided with a unique API key, that you should store:"
   ]
  },
  {
   "cell_type": "code",
   "execution_count": 46,
   "metadata": {
    "collapsed": true
   },
   "outputs": [],
   "source": [
    "# Store the API key as a string - according to PEP8, constants are always named in all upper case\n",
    "API_KEY = 'z-6V67L2Lei8_zy742pd'"
   ]
  },
  {
   "cell_type": "markdown",
   "metadata": {},
   "source": [
    "Qaundl has a large number of data sources, but, unfortunately, most of them require a Premium subscription. Still, there are also a good number of free datasets."
   ]
  },
  {
   "cell_type": "markdown",
   "metadata": {},
   "source": [
    "For this mini project, we will focus on equities data from the Frankfurt Stock Exhange (FSE), which is available for free. We'll try and analyze the stock prices of a company called Carl Zeiss Meditec, which manufactures tools for eye examinations, as well as medical lasers for laser eye surgery: https://www.zeiss.com/meditec/int/home.html. The company is listed under the stock ticker AFX_X."
   ]
  },
  {
   "cell_type": "markdown",
   "metadata": {},
   "source": [
    "You can find the detailed Quandl API instructions here: https://docs.quandl.com/docs/time-series"
   ]
  },
  {
   "cell_type": "markdown",
   "metadata": {},
   "source": [
    "While there is a dedicated Python package for connecting to the Quandl API, we would prefer that you use the *requests* package, which can be easily downloaded using *pip* or *conda*. You can find the documentation for the package here: http://docs.python-requests.org/en/master/ "
   ]
  },
  {
   "cell_type": "markdown",
   "metadata": {},
   "source": [
    "Finally, apart from the *requests* package, you are encouraged to not use any third party Python packages, such as *pandas*, and instead focus on what's available in the Python Standard Library (the *collections* module might come in handy: https://pymotw.com/3/collections/).\n",
    "Also, since you won't have access to DataFrames, you are encouraged to us Python's native data structures - preferably dictionaries, though some questions can also be answered using lists.\n",
    "You can read more on these data structures here: https://docs.python.org/3/tutorial/datastructures.html"
   ]
  },
  {
   "cell_type": "markdown",
   "metadata": {},
   "source": [
    "Keep in mind that the JSON responses you will be getting from the API map almost one-to-one to Python's dictionaries. Unfortunately, they can be very nested, so make sure you read up on indexing dictionaries in the documentation provided above."
   ]
  },
  {
   "cell_type": "code",
   "execution_count": 47,
   "metadata": {
    "collapsed": false
   },
   "outputs": [
    {
     "name": "stdout",
     "output_type": "stream",
     "text": [
      "Requirement already satisfied (use --upgrade to upgrade): quandl in c:\\programdata\\miniconda3\\envs\\tutorial\\lib\\site-packages\n",
      "Requirement already satisfied (use --upgrade to upgrade): more-itertools in c:\\programdata\\miniconda3\\envs\\tutorial\\lib\\site-packages (from quandl)\n",
      "Requirement already satisfied (use --upgrade to upgrade): six in c:\\programdata\\miniconda3\\envs\\tutorial\\lib\\site-packages (from quandl)\n",
      "Requirement already satisfied (use --upgrade to upgrade): numpy>=1.8 in c:\\programdata\\miniconda3\\envs\\tutorial\\lib\\site-packages (from quandl)\n",
      "Requirement already satisfied (use --upgrade to upgrade): python-dateutil in c:\\programdata\\miniconda3\\envs\\tutorial\\lib\\site-packages (from quandl)\n",
      "Requirement already satisfied (use --upgrade to upgrade): pandas>=0.14 in c:\\programdata\\miniconda3\\envs\\tutorial\\lib\\site-packages (from quandl)\n",
      "Requirement already satisfied (use --upgrade to upgrade): requests>=2.7.0 in c:\\programdata\\miniconda3\\envs\\tutorial\\lib\\site-packages (from quandl)\n",
      "Requirement already satisfied (use --upgrade to upgrade): inflection>=0.3.1 in c:\\programdata\\miniconda3\\envs\\tutorial\\lib\\site-packages (from quandl)\n",
      "Requirement already satisfied (use --upgrade to upgrade): pytz>=2011k in c:\\programdata\\miniconda3\\envs\\tutorial\\lib\\site-packages (from pandas>=0.14->quandl)\n",
      "Requirement already satisfied (use --upgrade to upgrade): urllib3<1.24,>=1.21.1 in c:\\programdata\\miniconda3\\envs\\tutorial\\lib\\site-packages (from requests>=2.7.0->quandl)\n",
      "Requirement already satisfied (use --upgrade to upgrade): idna<2.8,>=2.5 in c:\\programdata\\miniconda3\\envs\\tutorial\\lib\\site-packages (from requests>=2.7.0->quandl)\n",
      "Requirement already satisfied (use --upgrade to upgrade): certifi>=2017.4.17 in c:\\programdata\\miniconda3\\envs\\tutorial\\lib\\site-packages (from requests>=2.7.0->quandl)\n",
      "Requirement already satisfied (use --upgrade to upgrade): chardet<3.1.0,>=3.0.2 in c:\\programdata\\miniconda3\\envs\\tutorial\\lib\\site-packages (from requests>=2.7.0->quandl)\n"
     ]
    },
    {
     "name": "stderr",
     "output_type": "stream",
     "text": [
      "You are using pip version 8.0.2, however version 18.0 is available.\n",
      "You should consider upgrading via the 'python -m pip install --upgrade pip' command.\n"
     ]
    },
    {
     "data": {
      "text/plain": [
       "0"
      ]
     },
     "execution_count": 47,
     "metadata": {},
     "output_type": "execute_result"
    }
   ],
   "source": [
    "# First, import the relevant modules\n",
    "import pip\n",
    "pip.main(['install','quandl'])"
   ]
  },
  {
   "cell_type": "code",
   "execution_count": 48,
   "metadata": {
    "collapsed": false
   },
   "outputs": [
    {
     "data": {
      "text/plain": [
       "{u'dataset': {u'collapse': None,\n",
       "  u'column_index': None,\n",
       "  u'column_names': [u'Date',\n",
       "   u'Open',\n",
       "   u'High',\n",
       "   u'Low',\n",
       "   u'Close',\n",
       "   u'Change',\n",
       "   u'Traded Volume',\n",
       "   u'Turnover',\n",
       "   u'Last Price of the Day',\n",
       "   u'Daily Traded Units',\n",
       "   u'Daily Turnover'],\n",
       "  u'data': [],\n",
       "  u'database_code': u'FSE',\n",
       "  u'database_id': 6129,\n",
       "  u'dataset_code': u'AFX_X',\n",
       "  u'description': u'Stock Prices for Carl Zeiss Meditec (AFX) from the Frankfurt Stock Exchange.<br><br>Trading System: Xetra<br><br>ISIN: DE0005313704',\n",
       "  u'end_date': u'1970-01-01',\n",
       "  u'frequency': u'daily',\n",
       "  u'id': 10095370,\n",
       "  u'limit': None,\n",
       "  u'name': u'Carl Zeiss Meditec (AFX_X)',\n",
       "  u'newest_available_date': u'2018-08-24',\n",
       "  u'oldest_available_date': u'2000-06-07',\n",
       "  u'order': None,\n",
       "  u'premium': False,\n",
       "  u'refreshed_at': u'2018-08-24T22:28:36.883Z',\n",
       "  u'start_date': u'2000-06-07',\n",
       "  u'transform': None,\n",
       "  u'type': u'Time Series'}}"
      ]
     },
     "execution_count": 48,
     "metadata": {},
     "output_type": "execute_result"
    }
   ],
   "source": [
    "# Now, call the Quandl API and pull out a small sample of the data (only one day) to get a glimpse\n",
    "# into the JSON structure that will be returnedfr\n",
    "import quandl \n",
    "import requests\n",
    "r = requests.get('https://www.quandl.com/api/v3/datasets/FSE/AFX_X.json?api_key=z-6V67L2Lei8_zy742pd&start_date=1970-01-01&end_date=1970-01-01', auth=('user', 'pass'))\n",
    "r.status_code\n",
    "r.headers['content-type']\n",
    "r.encoding\n",
    "r.text\n",
    "r.json()\n"
   ]
  },
  {
   "cell_type": "code",
   "execution_count": 49,
   "metadata": {
    "collapsed": false
   },
   "outputs": [],
   "source": [
    "# Inspect the JSON structure of the object you created, and take note of how nested it is,\n",
    "# as well as the overall structure\n"
   ]
  },
  {
   "cell_type": "markdown",
   "metadata": {},
   "source": [
    "These are your tasks for this mini project:\n",
    "\n",
    "1. Collect data from the Franfurt Stock Exchange, for the ticker AFX_X, for the whole year 2017 (keep in mind that the date format is YYYY-MM-DD).\n",
    "2. Convert the returned JSON object into a Python dictionary.\n",
    "3. Calculate what the highest and lowest opening prices were for the stock in this period.\n",
    "4. What was the largest change in any one day (based on High and Low price)?\n",
    "5. What was the largest change between any two days (based on Closing Price)?\n",
    "6. What was the average daily trading volume during this year?\n",
    "7. (Optional) What was the median trading volume during this year. (Note: you may need to implement your own function for calculating the median.)"
   ]
  },
  {
   "cell_type": "code",
   "execution_count": 50,
   "metadata": {
    "collapsed": false
   },
   "outputs": [],
   "source": [
    "#1\n",
    "#data= quandl.get(\"FSE/AFX_X\",start_date=\"2017-01-01\",end_date=\"2017-12-31\")\n",
    "#data\n",
    "\n",
    "r = requests.get('https://www.quandl.com/api/v3/datasets/FSE/AFX_X.json?api_key=z-6V67L2Lei8_zy742pd&start_date=2017-01-01&end_date=2018-01-01', auth=('user', 'pass'))\n",
    "\n"
   ]
  },
  {
   "cell_type": "code",
   "execution_count": 51,
   "metadata": {
    "collapsed": false
   },
   "outputs": [],
   "source": [
    "#2\n",
    "data = r.json()\n"
   ]
  },
  {
   "cell_type": "code",
   "execution_count": 64,
   "metadata": {
    "collapsed": false
   },
   "outputs": [
    {
     "name": "stdout",
     "output_type": "stream",
     "text": [
      "53.11\n",
      "34.0\n"
     ]
    }
   ],
   "source": [
    "#3\n",
    "data_max = float(\"-inf\")\n",
    "data_min = float(\"inf\")\n",
    " \n",
    "for row in data[\"dataset\"][\"data\"]:\n",
    "    if row[1] != None:\n",
    "         if row[1] > data_max:\n",
    "                data_max = row[1]\n",
    "         if row[1] < data_min:\n",
    "                data_min = row[1]\n",
    "\n",
    "#print(\"The highest opening price in 2017 was ${0:.2f} per share.\".format(round(open_max, 2)))\n",
    "#print(\"The lowest opening price in 2017 was ${0:.2f} per share.\".format(round(open_min, 2)))\n",
    "print (data_max)\n",
    "print (data_min)"
   ]
  },
  {
   "cell_type": "code",
   "execution_count": 65,
   "metadata": {
    "collapsed": false
   },
   "outputs": [
    {
     "name": "stdout",
     "output_type": "stream",
     "text": [
      "2.81\n"
     ]
    }
   ],
   "source": [
    "#4\n",
    "maxChange = float(\"-inf\")\n",
    "\n",
    "for row in data[\"dataset\"][\"data\"]:\n",
    "    if row[2] != None and row[3] != None:\n",
    "        change = row[2]-row[3]\n",
    "        if change > maxChange:\n",
    "            maxChange = change\n",
    "\n",
    "print(maxChange)"
   ]
  },
  {
   "cell_type": "code",
   "execution_count": 71,
   "metadata": {
    "collapsed": false
   },
   "outputs": [
    {
     "name": "stdout",
     "output_type": "stream",
     "text": [
      "2.56\n"
     ]
    }
   ],
   "source": [
    "#5\n",
    "maxChange = float(\"-inf\")\n",
    "lastDay = None\n",
    "for row in data[\"dataset\"][\"data\"]:\n",
    "    if row[4] != None:\n",
    "        if lastDay != None:\n",
    "            change = row[4] - lastDay\n",
    "            if change < 0:\n",
    "                change = change * -1\n",
    "            if change > maxChange:\n",
    "                maxChange = change\n",
    "        lastDay = row[4]\n",
    "\n",
    "print(maxChange)"
   ]
  },
  {
   "cell_type": "code",
   "execution_count": 73,
   "metadata": {
    "collapsed": false
   },
   "outputs": [
    {
     "name": "stdout",
     "output_type": "stream",
     "text": [
      "89124.3372549\n"
     ]
    }
   ],
   "source": [
    "#6 \n",
    "total = 0\n",
    "length = 0\n",
    "\n",
    "for row in data[\"dataset\"][\"data\"]:\n",
    "    if row[6] != None:\n",
    "        total = total + row[6]\n",
    "        length = length + 1\n",
    "\n",
    "average = total/length\n",
    "print(average)"
   ]
  },
  {
   "cell_type": "code",
   "execution_count": 74,
   "metadata": {
    "collapsed": false
   },
   "outputs": [
    {
     "name": "stdout",
     "output_type": "stream",
     "text": [
      "76286.0\n"
     ]
    }
   ],
   "source": [
    "#7\n",
    "arr = []\n",
    "\n",
    "for row in data[\"dataset\"][\"data\"]:\n",
    "    if row[6] != None:\n",
    "        arr.append(row[6])\n",
    "        \n",
    "arr.sort()\n",
    "print(arr[len(arr)/2])"
   ]
  },
  {
   "cell_type": "code",
   "execution_count": null,
   "metadata": {
    "collapsed": true
   },
   "outputs": [],
   "source": []
  }
 ],
 "metadata": {
  "kernelspec": {
   "display_name": "Python 2",
   "language": "python",
   "name": "python2"
  },
  "language_info": {
   "codemirror_mode": {
    "name": "ipython",
    "version": 2
   },
   "file_extension": ".py",
   "mimetype": "text/x-python",
   "name": "python",
   "nbconvert_exporter": "python",
   "pygments_lexer": "ipython2",
   "version": "2.7.11"
  }
 },
 "nbformat": 4,
 "nbformat_minor": 2
}
